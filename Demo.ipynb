{
  "nbformat": 4,
  "nbformat_minor": 0,
  "metadata": {
    "colab": {
      "provenance": []
    },
    "kernelspec": {
      "name": "python3",
      "display_name": "Python 3"
    },
    "language_info": {
      "name": "python"
    }
  },
  "cells": [
    {
      "cell_type": "code",
      "source": [
        "import requests\n",
        "\n",
        "url = \"https://api.deepinfra.com/v1/inference/tiiuae/falcon-7b\"\n",
        "api_key = \"ROmTPGGYB5PlJ49hKG3dZvvBARzXDB4b\"\n",
        "input_text = \"write an article on Generative AI.\"\n",
        "\n",
        "headers = {\n",
        "    \"Content-Type\": \"application/json\",\n",
        "    \"Authorization\": f\"Bearer ROmTPGGYB5PlJ49hKG3dZvvBARzXDB4b\"\n",
        "}\n",
        "\n",
        "payload = {\n",
        "    \"input\": {\n",
        "        \"prompt\": input_text\n",
        "    }\n",
        "}\n",
        "\n",
        "try:\n",
        "    response = requests.post(url, headers=headers, json=payload)\n",
        "    response.raise_for_status()\n",
        "    # Process the response here\n",
        "    print(response.json())\n",
        "except requests.exceptions.RequestException as e:\n",
        "    print(\"Error:\", e)\n"
      ],
      "metadata": {
        "colab": {
          "base_uri": "https://localhost:8080/"
        },
        "id": "WusnE79Pd5DX",
        "outputId": "fab68302-fe1a-4f06-deb2-31547b4d1b0a"
      },
      "execution_count": null,
      "outputs": [
        {
          "output_type": "stream",
          "name": "stdout",
          "text": [
            "{'request_id': 'R3HRRbfm2Vkz9cNPkuUxVoKN', 'inference_status': {'status': 'succeeded', 'runtime_ms': 6936, 'cost': 0.0034680000972002745}, 'input': {'prompt': 'write an article on Generative AI.', 'max_length': 200, 'do_sample': True, 'top_k': 10, 'num_return_sequences': 1}, 'output': ['write an article on Generative AI. In this article, I will introduce to you what generative artificial intelligence is and how its use can benefit you. I am going to discuss in this blog how generative AI is different from other AI methods and how it can improve your business or organization. What is Generative AI? Generative AI is a form of artificial intelligence that allows you to create your own unique solutions or programs instead of using pre-made or ready-made solutions for your business. In other words, generative AI uses its deep learning algorithms to create unique solutions for your business by collecting data and analyzing it. Generative AI is also different because it does its own research instead of using information from the Internet like other AI methods do.\\nHow Generative AI can help you\\nGenerative AI can help you in many ways. For example, if you are a business owner, generative AI can help you find new solutions or products for your business. Generative AI can analyze'], 'id': 'R3HRRbfm2Vkz9cNPkuUxVoKN', 'version': None, 'created_at': None, 'started_at': '2023-07-01T08:02:31.106298+00:00', 'completed_at': '2023-07-01T08:02:38.026567+00:00', 'logs': 'Setting `pad_token_id` to `eos_token_id`:11 for open-end generation.\\n', 'error': None, 'status': 'succeeded', 'metrics': {'predict_time': 6.920269}, 'webhook_events_filter': ['start', 'output', 'completed', 'logs'], 'output_file_prefix': 'http://10.244.20.229:5501/results/R3HRRbfm2Vkz9cNPkuUxVoKN/', 'webhook': None}\n"
          ]
        }
      ]
    },
    {
      "cell_type": "code",
      "source": [],
      "metadata": {
        "id": "an0Wro08eZA-"
      },
      "execution_count": null,
      "outputs": []
    }
  ]
}